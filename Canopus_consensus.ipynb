{
  "nbformat": 4,
  "nbformat_minor": 0,
  "metadata": {
    "colab": {
      "provenance": [],
      "authorship_tag": "ABX9TyOBTLLScT8g7pbWuCcy1Za/",
      "include_colab_link": true
    },
    "kernelspec": {
      "name": "python3",
      "display_name": "Python 3"
    },
    "language_info": {
      "name": "python"
    }
  },
  "cells": [
    {
      "cell_type": "markdown",
      "metadata": {
        "id": "view-in-github",
        "colab_type": "text"
      },
      "source": [
        "<a href=\"https://colab.research.google.com/github/anani-a-missinou/Brassica_Metabolomics_defensive-chemical-traits/blob/main/Canopus_consensus.ipynb\" target=\"_parent\"><img src=\"https://colab.research.google.com/assets/colab-badge.svg\" alt=\"Open In Colab\"/></a>"
      ]
    },
    {
      "cell_type": "markdown",
      "source": [
        "# Canopus_consensus"
      ],
      "metadata": {
        "id": "5xmm39czDUPf"
      }
    },
    {
      "cell_type": "markdown",
      "source": [
        "Author: Anani Amegan MISSINOU (INRAE-IGEPP). I reused a notebook from David Elser (University of Strasbourg) : https://doi.org/10.1101/2022.09.12.507566\n",
        "\n",
        "Script to merge the outputs of all the tools into one big table also get consensus substructures for insilico-tool and propagate canopus within networks"
      ],
      "metadata": {
        "id": "b1Q8gWO0DZnH"
      }
    },
    {
      "cell_type": "code",
      "source": [
        "!pip install pandas"
      ],
      "metadata": {
        "colab": {
          "base_uri": "https://localhost:8080/"
        },
        "id": "bhMsisuUQHxG",
        "outputId": "54db547c-443e-42e4-9eb4-7d85756d0153"
      },
      "execution_count": 4,
      "outputs": [
        {
          "output_type": "stream",
          "name": "stdout",
          "text": [
            "Requirement already satisfied: pandas in /usr/local/lib/python3.10/dist-packages (1.5.3)\n",
            "Requirement already satisfied: python-dateutil>=2.8.1 in /usr/local/lib/python3.10/dist-packages (from pandas) (2.8.2)\n",
            "Requirement already satisfied: pytz>=2020.1 in /usr/local/lib/python3.10/dist-packages (from pandas) (2022.7.1)\n",
            "Requirement already satisfied: numpy>=1.21.0 in /usr/local/lib/python3.10/dist-packages (from pandas) (1.22.4)\n",
            "Requirement already satisfied: six>=1.5 in /usr/local/lib/python3.10/dist-packages (from python-dateutil>=2.8.1->pandas) (1.16.0)\n"
          ]
        }
      ]
    },
    {
      "cell_type": "code",
      "source": [
        "import pandas as pd\n",
        "import io\n",
        "df = pd.read_csv(io.StringIO(uploaded['filename.csv'].decode('utf-8')))"
      ],
      "metadata": {
        "colab": {
          "base_uri": "https://localhost:8080/",
          "height": 200
        },
        "id": "pwXTUEyQO72n",
        "outputId": "7c8c4e36-9a4e-4d66-a3b5-1f55b010b6e5"
      },
      "execution_count": 3,
      "outputs": [
        {
          "output_type": "error",
          "ename": "NameError",
          "evalue": "ignored",
          "traceback": [
            "\u001b[0;31m---------------------------------------------------------------------------\u001b[0m",
            "\u001b[0;31mNameError\u001b[0m                                 Traceback (most recent call last)",
            "\u001b[0;32m<ipython-input-3-fbc178f06a4c>\u001b[0m in \u001b[0;36m<cell line: 3>\u001b[0;34m()\u001b[0m\n\u001b[1;32m      1\u001b[0m \u001b[0;32mimport\u001b[0m \u001b[0mpandas\u001b[0m \u001b[0;32mas\u001b[0m \u001b[0mpd\u001b[0m\u001b[0;34m\u001b[0m\u001b[0;34m\u001b[0m\u001b[0m\n\u001b[1;32m      2\u001b[0m \u001b[0;32mimport\u001b[0m \u001b[0mio\u001b[0m\u001b[0;34m\u001b[0m\u001b[0;34m\u001b[0m\u001b[0m\n\u001b[0;32m----> 3\u001b[0;31m \u001b[0mdf\u001b[0m \u001b[0;34m=\u001b[0m \u001b[0mpd\u001b[0m\u001b[0;34m.\u001b[0m\u001b[0mread_csv\u001b[0m\u001b[0;34m(\u001b[0m\u001b[0mio\u001b[0m\u001b[0;34m.\u001b[0m\u001b[0mStringIO\u001b[0m\u001b[0;34m(\u001b[0m\u001b[0muploaded\u001b[0m\u001b[0;34m[\u001b[0m\u001b[0;34m'filename.csv'\u001b[0m\u001b[0;34m]\u001b[0m\u001b[0;34m.\u001b[0m\u001b[0mdecode\u001b[0m\u001b[0;34m(\u001b[0m\u001b[0;34m'utf-8'\u001b[0m\u001b[0;34m)\u001b[0m\u001b[0;34m)\u001b[0m\u001b[0;34m)\u001b[0m\u001b[0;34m\u001b[0m\u001b[0;34m\u001b[0m\u001b[0m\n\u001b[0m",
            "\u001b[0;31mNameError\u001b[0m: name 'uploaded' is not defined"
          ]
        }
      ]
    },
    {
      "cell_type": "code",
      "execution_count": null,
      "metadata": {
        "id": "EsJszc31DQVk"
      },
      "outputs": [],
      "source": [
        "import pandas as pd\n",
        "import numpy as np\n",
        "from rdkit import Chem\n",
        "from rdkit.Chem.rdMolDescriptors import CalcMolFormula,CalcExactMolWt\n",
        "from rdkit.Chem import MCS\n",
        "from rdkit.Chem import MolFromSmarts\n",
        "from collections import Counter\n",
        "from rdkit.Chem.Fraggle import FraggleSim\n",
        "from rdkit.Chem.rdMolDescriptors import CalcNumAtoms\n",
        "from rdkit.Chem import rdMolDescriptors\n",
        "from rdkit.SimDivFilters import rdSimDivPickers\n",
        "from rdkit import DataStructs\n",
        "from collections import defaultdict\n",
        "import numpy as np\n",
        "from matplotlib.pyplot import hist,xlabel\n",
        "from rdkit.Chem.Draw import MolsToGridImage\n",
        "from rdkit.rdBase import BlockLogs\n",
        "from tqdm.notebook import tqdm\n",
        "from joblib import Parallel, delayed\n",
        "from joblib import wrap_non_picklable_objects\n",
        "\n",
        "def convert(molecule): #repair InChI and convert to smiles\n",
        "    try:\n",
        "        if not molecule.startswith(\"InChI=\"):\n",
        "            molecule=\"InChI=\"+molecule\n",
        "        else:\n",
        "            pass\n",
        "        mol=Chem.inchi.MolFromInchi(molecule)\n",
        "        return(Chem.MolToSmiles(mol,kekuleSmiles=True))\n",
        "    except:\n",
        "        return None\n",
        "\n",
        "def smilestomf(smiles):\n",
        "    try:\n",
        "        m = Chem.MolFromSmiles(smiles)\n",
        "        u=CalcMolFormula(m)\n",
        "        return u\n",
        "    except:\n",
        "        return None\n",
        "\n",
        "\n",
        "\n",
        "#if CalcExactMolWt(Chem.MolFromSmiles(i))<1300\n",
        "\n",
        "\n",
        "\n",
        "def assignPointsToClusters(picks,fps):\n",
        "    clusters = defaultdict(list)\n",
        "    for i,idx in enumerate(picks):\n",
        "        clusters[i].append(idx)\n",
        "    sims = np.zeros((len(picks),len(fps)))\n",
        "    for i in range(len(picks)):\n",
        "        pick = picks[i]\n",
        "        sims[i,:] = DataStructs.BulkTanimotoSimilarity(fps[pick],fps)\n",
        "        sims[i,i] = 0\n",
        "    best = np.argmax(sims,axis=0)\n",
        "    for i,idx in enumerate(best):\n",
        "        if i not in picks:\n",
        "            clusters[idx].append(i)\n",
        "    return clusters\n",
        "\n",
        "def mls(df,columns,thresh = 0.65): # this is the function to calculate the consensus substructure, takes a dataframe, and the columns to select as input\n",
        " smiles=[]\n",
        " for i in columns:\n",
        "     smiles=smiles+df[i].dropna().to_list()\n",
        " if len(smiles)>4:\n",
        "  z= [Chem.MolFromSmiles(i) for i in smiles]\n",
        "  scaffolds=[FraggleSim.generate_fraggle_fragmentation(i) for i in z]\n",
        "  clean=[]\n",
        "  block = BlockLogs()\n",
        "  for i in scaffolds:\n",
        "      newlist = [word for line in i for word in line.split('.')]\n",
        "      newlist=list(set(newlist))\n",
        "      newlist = [w.replace('*', '') for w in newlist]\n",
        "      mfs=[Chem.MolFromSmiles(i) for i in newlist ]\n",
        "      clean.append(mfs)\n",
        "  del block\n",
        "  clean=[j for i in clean for j in i]\n",
        "  clean=[i for i in clean if not i == None]\n",
        "  clean=[Chem.MolToSmiles(i) for i in clean]\n",
        "\n",
        "  most=Counter(clean).most_common()\n",
        "  most= [i[0] for i in most]\n",
        "  if len(most)>50:\n",
        "      most=most[0:50]\n",
        "  else:\n",
        "      pass\n",
        "  mols = [Chem.MolFromSmiles(smi) for smi in most]\n",
        "  mols = [i for i in mols if CalcNumAtoms(i) >12]\n",
        "\n",
        "  fps = [rdMolDescriptors.GetMorganFingerprintAsBitVect(m,2,2048) for m in mols]\n",
        "\n",
        "  lp = rdSimDivPickers.LeaderPicker()\n",
        "  picks = lp.LazyBitVectorPick(fps,len(fps),thresh)\n",
        "  clusters = assignPointsToClusters(picks,fps)\n",
        "  sort_clusters= sorted([clusters[i] for i in clusters],key=len, reverse=True)\n",
        "\n",
        "  mls=[]\n",
        "  for _,i in enumerate(range(len(sort_clusters))):\n",
        "      y=[mols[x] for x in sort_clusters[i]]\n",
        "      if len(y)>1:\n",
        "          mls.append(Chem.MolToSmiles(MolFromSmarts(MCS.FindMCS(y,timeout=120).smarts)))\n",
        "      else:\n",
        "         pass\n",
        "  return mls\n",
        " else:\n",
        "        return []\n",
        "\n",
        "columns=[\"smiles_cfm_db_spec2vec\",\"smiles-sir\",\"smiles_cfm_j\",\"smiles_moldis_j\",\"smiles_moldis\",\"smiles_cfm_db_cosine\"]\n",
        "\n",
        "df_quant = pd.read_csv(\"/Users/delser/Desktop/PhD/Phytochemistry/FBMN/alltissues/FEATURE-BASED-MOLECULAR-NETWORKING-cf822b6c-15072021/alltissues15072021-quant-py-dil.csv\",index_col='row ID', sep=\",\") # mzmine quant table\n",
        "\n",
        "#df_motif = pd.read_csv(\"/Users/delser/Desktop/PhD/Phytochemistry/FBMN/alltissues/FEATURE-BASED-MOLECULAR-NETWORKING-cf822b6c-15072021/MS2LDA-all.csv\",index_col='row ID', sep=\",\") # MS2LDA download\n",
        "\n",
        "#df_frag=pd.read_csv(\"/Users/delser/Desktop/PhD/Phytochemistry/FBMN/alltissues/FEATURE-BASED-MOLECULAR-NETWORKING-cf822b6c-15072021/MS2LDA-fragments.csv\",index_col='Motif', sep=\",\") # MS2LDA download\n",
        "\n",
        "df_network=pd.read_csv(\"/Users/delser/Desktop/PhD/Phytochemistry/FBMN/alltissues/FEATURE-BASED-MOLECULAR-NETWORKING-cf822b6c-15072021/allcyto.csv\",index_col='shared name', sep=\",\") # curated gnps output exported from cytoscape\n",
        "\n",
        "df_sirius=pd.read_csv(\"/Users/delser/Desktop/PhD/Phytochemistry/FBMN/alltissues/FEATURE-BASED-MOLECULAR-NETWORKING-cf822b6c-15072021/formula_identifications-extended.tsv\",index_col='ID', sep=\"\\t\") # Sirius output\n",
        "\n",
        "df_cmpid= pd.read_csv(\"/Users/delser/Desktop/PhD/Phytochemistry/FBMN/alltissues/FEATURE-BASED-MOLECULAR-NETWORKING-cf822b6c-15072021/compound_identifications-extended.tsv\",index_col='ID', sep=\"\\t\") # Sirius output\n",
        "\n",
        "#df_anno=pd.read_csv(\"/Users/delser/Desktop/PhD/Phytochemistry/FBMN/alltissues/FEATURE-BASED-MOLECULAR-NETWORKING-cf822b6c-15072021/MS2LDA-annotation.csv\",index_col='Name', sep=\",\") # MS2LDA download\n",
        "\n",
        "df_moldis= pd.read_csv(\"/Users/delser/Desktop/PhD/Phytochemistry/FBMN/alltissues/FEATURE-BASED-MOLECULAR-NETWORKING-cf822b6c-15072021/MOLDISCOVERY-5561c3b7-view_significant_unique-main.tsv\",index_col='Scan', sep=\"\\t\") # moldiscovery gnps download\n",
        "\n",
        "#df_moldis_j= pd.read_csv(\"/Users/delser/Desktop/PhD/Phytochemistry/FBMN/alltissues/FEATURE-BASED-MOLECULAR-NETWORKING-cf822b6c-15072021/MOLDISCOVERY-jassbi.tsv\",index_col='Scan', sep=\"\\t\") # moldiscovery gnps download\n",
        "\n",
        "#df_cfm_j= pd.read_csv(\"/Users/delser/Desktop/PhD/Phytochemistry/FBMN/alltissues/FEATURE-BASED-MOLECULAR-NETWORKING-cf822b6c-15072021/jassbi-results.tsv\",index_col='Feature_id', sep=\"\\t\") # CFM Datase search output\n",
        "\n",
        "#df_cfm_spec2vec= pd.read_csv(\"/Users/delser/Desktop/PhD/Phytochemistry/FBMN/alltissues/FEATURE-BASED-MOLECULAR-NETWORKING-cf822b6c-15072021/cfm-hits-database_spec2vec.txt\",index_col='Feature_id', sep=\"\\t\") # CFM Datase search output\n",
        "\n",
        "#df_cfm_cosine= pd.read_csv(\"/Users/delser/Desktop/PhD/Phytochemistry/FBMN/alltissues/FEATURE-BASED-MOLECULAR-NETWORKING-cf822b6c-15072021/results_cfmdb_alltissues1507.tsv\",index_col='Feature_id', sep=\"\\t\")\n",
        "\n",
        "#df_em= pd.read_csv(\"/Users/delser/Desktop/PhD/Phytochemistry/FBMN/alltissues/FEATURE-BASED-MOLECULAR-NETWORKING-cf822b6c-15072021/hitsemmanuelfilter.tsv\",index_col='Feature_id', sep=\"\\t\") # Emmanuel Datase search output\n",
        "\n",
        "df_cano= pd.read_csv(\"input/canopus_formula_summary.tsv\", sep=\"\\t\")  #canopus data\n",
        "\n",
        "#df_molnet= pd.read_csv(\"/Users/delser/Git/phd/molnet_v1.tsv\",index_col='cluster index', sep=\"\\t\") # molnetenhancher output"
      ]
    },
    {
      "cell_type": "code",
      "source": [],
      "metadata": {
        "id": "JM1Ps9YISNSN"
      },
      "execution_count": null,
      "outputs": []
    },
    {
      "cell_type": "markdown",
      "source": [
        "# Nouvelle section"
      ],
      "metadata": {
        "id": "1UqCpZ82OqIA"
      }
    },
    {
      "cell_type": "markdown",
      "source": [],
      "metadata": {
        "id": "lC-23P7VDRKJ"
      }
    },
    {
      "cell_type": "code",
      "source": [
        "!ls -l input"
      ],
      "metadata": {
        "colab": {
          "base_uri": "https://localhost:8080/"
        },
        "id": "6kt-7VhaOx8u",
        "outputId": "fe4f9f3a-821e-43f6-8bfe-61171be599ac"
      },
      "execution_count": 5,
      "outputs": [
        {
          "output_type": "stream",
          "name": "stdout",
          "text": [
            "total 2808\n",
            "-rw-r--r-- 1 root root 1183864 Jul 13 22:14 canopus_formula_summary.tsv\n",
            "-rw-r--r-- 1 root root 1013415 Jul 13 21:49 compound_identifications-leaves-extended.csv\n",
            "-rw-r--r-- 1 root root  669193 Jul 13 21:49 formula_identifications-leaves-extended.csv\n"
          ]
        }
      ]
    }
  ]
}