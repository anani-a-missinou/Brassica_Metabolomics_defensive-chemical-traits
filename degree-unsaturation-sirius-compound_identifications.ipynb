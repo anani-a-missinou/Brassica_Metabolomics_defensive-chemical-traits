{
  "nbformat": 4,
  "nbformat_minor": 0,
  "metadata": {
    "colab": {
      "provenance": [],
      "authorship_tag": "ABX9TyPaTiElxcYZA9p3oe8YTzo7",
      "include_colab_link": true
    },
    "kernelspec": {
      "name": "python3",
      "display_name": "Python 3"
    },
    "language_info": {
      "name": "python"
    }
  },
  "cells": [
    {
      "cell_type": "markdown",
      "metadata": {
        "id": "view-in-github",
        "colab_type": "text"
      },
      "source": [
        "<a href=\"https://colab.research.google.com/github/anani-a-missinou/Brassica_Metabolomics_defensive-chemical-traits/blob/main/degree-unsaturation-sirius-compound_identifications.ipynb\" target=\"_parent\"><img src=\"https://colab.research.google.com/assets/colab-badge.svg\" alt=\"Open In Colab\"/></a>"
      ]
    },
    {
      "cell_type": "markdown",
      "source": [
        "# Degree unsaturation of sirius"
      ],
      "metadata": {
        "id": "_Gk0nAPjhKq6"
      }
    },
    {
      "cell_type": "markdown",
      "source": [
        "Author: Anani Amegan MISSINOU (INRAE-IGEPP). I reused a notebook from David Elser (University of Strasbourg) : https://doi.org/10.1101/2022.09.12.507566"
      ],
      "metadata": {
        "id": "ICLlsP_QhNWT"
      }
    },
    {
      "cell_type": "code",
      "execution_count": null,
      "metadata": {
        "id": "-ulr-iOAfcVq"
      },
      "outputs": [],
      "source": [
        "!python"
      ]
    },
    {
      "cell_type": "code",
      "source": [
        "organ = \"roots\" #\"leaves\""
      ],
      "metadata": {
        "id": "tEn9U-MTOOWY"
      },
      "execution_count": 30,
      "outputs": []
    },
    {
      "cell_type": "markdown",
      "source": [
        "Script to load Sirius formula_identifications.tsv and restore the feature id, also calculate the degree of unsaturation from the molecular formula requires molmass package!"
      ],
      "metadata": {
        "id": "VWYuJ6BMhS_d"
      }
    },
    {
      "cell_type": "code",
      "source": [
        "## Install molmass\n",
        "!pip install molmass\n",
        "!pip install numpy"
      ],
      "metadata": {
        "colab": {
          "base_uri": "https://localhost:8080/"
        },
        "id": "cQ5JY_yUg-hD",
        "outputId": "0994ec4e-0476-4efc-faac-089e37d084c3"
      },
      "execution_count": 29,
      "outputs": [
        {
          "output_type": "stream",
          "name": "stdout",
          "text": [
            "Requirement already satisfied: molmass in /usr/local/lib/python3.10/dist-packages (2023.4.10)\n",
            "Requirement already satisfied: numpy in /usr/local/lib/python3.10/dist-packages (1.22.4)\n"
          ]
        }
      ]
    },
    {
      "cell_type": "code",
      "source": [
        "from molmass import Formula\n",
        "\n",
        "from pathlib import Path\n",
        "from tkinter import *\n",
        "\n",
        "from tkinter.filedialog import askopenfilename\n",
        "from tkinter.filedialog import asksaveasfile\n",
        "import csv\n",
        "\n",
        "\n",
        "def degree(form): # function to calculate degree of unsaturation\n",
        "    f= Formula(form)\n",
        "    MF=(f._elements)\n",
        "    try:\n",
        "        b=MF[\"H\"][0]\n",
        "    except:\n",
        "        b=0\n",
        "    try:\n",
        "        c=MF[\"N\"][0]\n",
        "    except:\n",
        "        c=0\n",
        "    try:\n",
        "        a=MF[\"C\"][0]\n",
        "    except:\n",
        "        a=0\n",
        "    if a ==0 or b==0:\n",
        "        return(\"NA\")\n",
        "    else:\n",
        "        return((a+1)-((b-c)/2))"
      ],
      "metadata": {
        "id": "QCHWVJlFgnK6"
      },
      "execution_count": 31,
      "outputs": []
    },
    {
      "cell_type": "code",
      "source": [
        "fname = \"compound_identifications.tsv\"  # file dialog"
      ],
      "metadata": {
        "id": "pGk-tV-ChWHT"
      },
      "execution_count": 34,
      "outputs": []
    },
    {
      "cell_type": "code",
      "source": [
        "Data=[]\n",
        "\n",
        "with open( fname,'r') as f:  # loads file into ScanList\n",
        " for line in f:\n",
        "  line=line.strip('\\n')\n",
        "  Data.append (line.split('\\t'))\n",
        "\n",
        "print(len(Data[1]))\n",
        "print(Data[1])"
      ],
      "metadata": {
        "colab": {
          "base_uri": "https://localhost:8080/"
        },
        "id": "tJBfcipVoLMd",
        "outputId": "b8845448-e097-4cef-e39e-d3cdc6fcf047"
      },
      "execution_count": 35,
      "outputs": [
        {
          "output_type": "stream",
          "name": "stdout",
          "text": [
            "21\n",
            "['1', '1', '1', '2', '0.9969579384676672', '-41.240164405657964', '0.9999999999999999', '56.794146250038146', 'C21H19N3O3', '[M + H]+', 'FOSPCYZZRVNHJS', 'InChI=1S/C21H19N3O3/c25-20(10-14-12-23-18-8-4-2-6-16(14)18)24-19(21(26)27)9-13-11-22-17-7-3-1-5-15(13)17/h1-8,11-12,19,22-23H,9-10H2,(H,24,25)(H,26,27)', 'Oprea1_459028', 'C1=CC=C2C(=C1)C(=CN2)CC(C(=O)O)NC(=O)CC3=CNC4=CC=CC=C43', '2.89444613', '644228;4604444;7033653;7033654;7033655', 'COCONUT:(CNP0001391 CNP0277843);PubChem:(644228 4604444 7033653 7033654 7033655);ZINC bio:(ZINC03070964 ZINC03070965);additional;Plantcyc:(CPD-11230);Training Set;PubMed;Biocyc:(CPD-11230)', '2779202', '362.15', '373.114', '210_1_Brassimet_Roots_Neg-POS_PAXs_12_p650']\n"
          ]
        }
      ]
    },
    {
      "cell_type": "code",
      "source": [
        "print(Data[1][8]) # index for formula col in compound_identifications.tsv\n",
        "print(Data[1][20]) # index for featuresID col in compound_identifications.tsv\n",
        "print(Data[1][15].split('_'))\n",
        "\n",
        "head=Data[0]\n",
        "Data.pop(0)"
      ],
      "metadata": {
        "colab": {
          "base_uri": "https://localhost:8080/"
        },
        "id": "3F-16QswoT6e",
        "outputId": "29db44d4-5306-48cb-92d2-bad45f881b4d"
      },
      "execution_count": 36,
      "outputs": [
        {
          "output_type": "stream",
          "name": "stdout",
          "text": [
            "C21H19N3O3\n",
            "210_1_Brassimet_Roots_Neg-POS_PAXs_12_p650\n",
            "['644228;4604444;7033653;7033654;7033655']\n"
          ]
        },
        {
          "output_type": "execute_result",
          "data": {
            "text/plain": [
              "['rank',\n",
              " 'formulaRank',\n",
              " '#adducts',\n",
              " '#predictedFPs',\n",
              " 'ConfidenceScore',\n",
              " 'CSI:FingerIDScore',\n",
              " 'ZodiacScore',\n",
              " 'SiriusScore',\n",
              " 'molecularFormula',\n",
              " 'adduct',\n",
              " 'InChIkey2D',\n",
              " 'InChI',\n",
              " 'name',\n",
              " 'smiles',\n",
              " 'xlogp',\n",
              " 'pubchemids',\n",
              " 'links',\n",
              " 'dbflags',\n",
              " 'ionMass',\n",
              " 'retentionTimeInSeconds',\n",
              " 'id']"
            ]
          },
          "metadata": {},
          "execution_count": 36
        }
      ]
    },
    {
      "cell_type": "code",
      "source": [
        "newdata=[]\n",
        "for i in Data:\n",
        "    x=degree(i[8])\n",
        "    ID=i[20].split('_')\n",
        "    #print(ID)\n",
        "    i.append(ID[7]) # split position of metabolic featutes index in fullFeatureID\n",
        "    i.append(x)\n",
        "    newdata.append(i)\n",
        "\n",
        "print(newdata[0])"
      ],
      "metadata": {
        "colab": {
          "base_uri": "https://localhost:8080/"
        },
        "id": "-eCcynTUoYT9",
        "outputId": "11990cb0-f5db-4f2e-fb7d-21afec3af6b8"
      },
      "execution_count": 37,
      "outputs": [
        {
          "output_type": "stream",
          "name": "stdout",
          "text": [
            "['1', '1', '1', '2', '0.9969579384676672', '-41.240164405657964', '0.9999999999999999', '56.794146250038146', 'C21H19N3O3', '[M + H]+', 'FOSPCYZZRVNHJS', 'InChI=1S/C21H19N3O3/c25-20(10-14-12-23-18-8-4-2-6-16(14)18)24-19(21(26)27)9-13-11-22-17-7-3-1-5-15(13)17/h1-8,11-12,19,22-23H,9-10H2,(H,24,25)(H,26,27)', 'Oprea1_459028', 'C1=CC=C2C(=C1)C(=CN2)CC(C(=O)O)NC(=O)CC3=CNC4=CC=CC=C43', '2.89444613', '644228;4604444;7033653;7033654;7033655', 'COCONUT:(CNP0001391 CNP0277843);PubChem:(644228 4604444 7033653 7033654 7033655);ZINC bio:(ZINC03070964 ZINC03070965);additional;Plantcyc:(CPD-11230);Training Set;PubMed;Biocyc:(CPD-11230)', '2779202', '362.15', '373.114', '210_1_Brassimet_Roots_Neg-POS_PAXs_12_p650', 'p650', 14.0]\n"
          ]
        }
      ]
    },
    {
      "cell_type": "code",
      "source": [
        "head.append(\"ID\")\n",
        "head.append(\"degree\")\n",
        "\n",
        "print(head[0])"
      ],
      "metadata": {
        "colab": {
          "base_uri": "https://localhost:8080/"
        },
        "id": "kiLZ6ypzr-NE",
        "outputId": "c6137a3d-abb6-4fa0-ffc9-cbf212aab6d5"
      },
      "execution_count": 38,
      "outputs": [
        {
          "output_type": "stream",
          "name": "stdout",
          "text": [
            "rank\n"
          ]
        }
      ]
    },
    {
      "cell_type": "code",
      "source": [
        "import numpy as np\n",
        "\n",
        "listData = []\n",
        "listData.append(list(head))\n",
        "for item in newdata:\n",
        "    listData.append(list(item))\n",
        "\n",
        "# using the savetxt\n",
        "# from the numpy module\n",
        "np.savetxt(\"compound_identifications-\"+organ+\"-extended.csv\",\n",
        "        listData,\n",
        "        delimiter =\", \",\n",
        "        fmt ='% s')"
      ],
      "metadata": {
        "id": "jxICnMbYsCtt"
      },
      "execution_count": 39,
      "outputs": []
    }
  ]
}