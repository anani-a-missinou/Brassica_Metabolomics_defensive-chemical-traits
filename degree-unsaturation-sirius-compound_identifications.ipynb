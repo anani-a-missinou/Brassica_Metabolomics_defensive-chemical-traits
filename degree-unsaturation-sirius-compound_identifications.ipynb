{
  "nbformat": 4,
  "nbformat_minor": 0,
  "metadata": {
    "colab": {
      "provenance": [],
      "authorship_tag": "ABX9TyOocJY+xtj60eD/VdP765cR",
      "include_colab_link": true
    },
    "kernelspec": {
      "name": "python3",
      "display_name": "Python 3"
    },
    "language_info": {
      "name": "python"
    }
  },
  "cells": [
    {
      "cell_type": "markdown",
      "metadata": {
        "id": "view-in-github",
        "colab_type": "text"
      },
      "source": [
        "<a href=\"https://colab.research.google.com/github/anani-a-missinou/Brassica_Metabolomics_defensive-chemical-traits/blob/main/degree-unsaturation-sirius-compound_identifications.ipynb\" target=\"_parent\"><img src=\"https://colab.research.google.com/assets/colab-badge.svg\" alt=\"Open In Colab\"/></a>"
      ]
    },
    {
      "cell_type": "markdown",
      "source": [
        "# Degree unsaturation of sirius"
      ],
      "metadata": {
        "id": "_Gk0nAPjhKq6"
      }
    },
    {
      "cell_type": "markdown",
      "source": [
        "Author: Anani Amegan MISSINOU (INRAE-IGEPP). I reused a notebook from David Elser (University of Strasbourg) : https://doi.org/10.1101/2022.09.12.507566"
      ],
      "metadata": {
        "id": "ICLlsP_QhNWT"
      }
    },
    {
      "cell_type": "code",
      "execution_count": null,
      "metadata": {
        "id": "-ulr-iOAfcVq"
      },
      "outputs": [],
      "source": [
        "!python"
      ]
    },
    {
      "cell_type": "markdown",
      "source": [
        "Script to load Sirius formula_identifications.tsv and restore the feature id, also calculate the degree of unsaturation from the molecular formula requires molmass package!"
      ],
      "metadata": {
        "id": "VWYuJ6BMhS_d"
      }
    },
    {
      "cell_type": "code",
      "source": [
        "## Install molmass\n",
        "!pip install molmass\n",
        "!pip install tk"
      ],
      "metadata": {
        "colab": {
          "base_uri": "https://localhost:8080/"
        },
        "id": "cQ5JY_yUg-hD",
        "outputId": "dcaafdf0-92b3-4b0d-eefa-182ca497a760"
      },
      "execution_count": 1,
      "outputs": [
        {
          "output_type": "stream",
          "name": "stdout",
          "text": [
            "Collecting molmass\n",
            "  Downloading molmass-2023.4.10-py3-none-any.whl (74 kB)\n",
            "\u001b[?25l     \u001b[90m━━━━━━━━━━━━━━━━━━━━━━━━━━━━━━━━━━━━━━━━\u001b[0m \u001b[32m0.0/74.4 kB\u001b[0m \u001b[31m?\u001b[0m eta \u001b[36m-:--:--\u001b[0m\r\u001b[2K     \u001b[90m━━━━━━━━━━━━━━━━━━━━━━━━━━━━━━━━━━━━━━━━\u001b[0m \u001b[32m74.4/74.4 kB\u001b[0m \u001b[31m3.1 MB/s\u001b[0m eta \u001b[36m0:00:00\u001b[0m\n",
            "\u001b[?25hInstalling collected packages: molmass\n",
            "Successfully installed molmass-2023.4.10\n",
            "Collecting tk\n",
            "  Downloading tk-0.1.0-py3-none-any.whl (3.9 kB)\n",
            "Installing collected packages: tk\n",
            "Successfully installed tk-0.1.0\n"
          ]
        }
      ]
    },
    {
      "cell_type": "code",
      "source": [
        "from molmass import Formula\n",
        "\n",
        "from pathlib import Path\n",
        "from tkinter import *\n",
        "\n",
        "from tkinter.filedialog import askopenfilename\n",
        "from tkinter.filedialog import asksaveasfile\n",
        "import csv\n",
        "\n",
        "\n",
        "def degree(form): # function to calculate degree of unsaturation\n",
        "    f= Formula(form)\n",
        "    MF=(f._elements)\n",
        "    try:\n",
        "        b=MF[\"H\"][0]\n",
        "    except:\n",
        "        b=0\n",
        "    try:\n",
        "        c=MF[\"N\"][0]\n",
        "    except:\n",
        "        c=0\n",
        "    try:\n",
        "        a=MF[\"C\"][0]\n",
        "    except:\n",
        "        a=0\n",
        "    if a ==0 or b==0:\n",
        "        return(\"NA\")\n",
        "    else:\n",
        "        return((a+1)-((b-c)/2))"
      ],
      "metadata": {
        "id": "QCHWVJlFgnK6"
      },
      "execution_count": 17,
      "outputs": []
    },
    {
      "cell_type": "code",
      "source": [
        "fname = \"compound_identifications.tsv\"  # file dialog"
      ],
      "metadata": {
        "id": "pGk-tV-ChWHT"
      },
      "execution_count": 18,
      "outputs": []
    },
    {
      "cell_type": "code",
      "source": [
        "Data=[]\n",
        "\n",
        "with open( fname,'r') as f:  # loads file into ScanList\n",
        " for line in f:\n",
        "  line=line.strip('\\n')\n",
        "  Data.append (line.split('\\t'))\n",
        "\n",
        "print(len(Data[1]))\n",
        "print(Data[1])"
      ],
      "metadata": {
        "colab": {
          "base_uri": "https://localhost:8080/"
        },
        "id": "tJBfcipVoLMd",
        "outputId": "225edb72-76e0-4184-b14a-2e1db42eb4ae"
      },
      "execution_count": 19,
      "outputs": [
        {
          "output_type": "stream",
          "name": "stdout",
          "text": [
            "21\n",
            "['1', '1', '1', '2', '0.9969579384676672', '-41.240164405657964', '0.9999999999999999', '56.794146250038146', 'C21H19N3O3', '[M + H]+', 'FOSPCYZZRVNHJS', 'InChI=1S/C21H19N3O3/c25-20(10-14-12-23-18-8-4-2-6-16(14)18)24-19(21(26)27)9-13-11-22-17-7-3-1-5-15(13)17/h1-8,11-12,19,22-23H,9-10H2,(H,24,25)(H,26,27)', 'Oprea1_459028', 'C1=CC=C2C(=C1)C(=CN2)CC(C(=O)O)NC(=O)CC3=CNC4=CC=CC=C43', '2.89444613', '644228;4604444;7033653;7033654;7033655', 'COCONUT:(CNP0001391 CNP0277843);PubChem:(644228 4604444 7033653 7033654 7033655);ZINC bio:(ZINC03070964 ZINC03070965);additional;Plantcyc:(CPD-11230);Training Set;PubMed;Biocyc:(CPD-11230)', '2779202', '362.15', '373.114', '210_1_Brassimet_Roots_Neg-POS_PAXs_12_p650']\n"
          ]
        }
      ]
    },
    {
      "cell_type": "code",
      "source": [
        "print(Data[1][8]) # index for formula col in compound_identifications.tsv\n",
        "print(Data[1][20]) # index for featuresID col in compound_identifications.tsv\n",
        "print(Data[1][15].split('_'))\n",
        "\n",
        "head=Data[0]\n",
        "Data.pop(0)"
      ],
      "metadata": {
        "colab": {
          "base_uri": "https://localhost:8080/"
        },
        "id": "3F-16QswoT6e",
        "outputId": "82efccf3-d41f-424e-947e-84d23b69f615"
      },
      "execution_count": 20,
      "outputs": [
        {
          "output_type": "stream",
          "name": "stdout",
          "text": [
            "C21H19N3O3\n",
            "210_1_Brassimet_Roots_Neg-POS_PAXs_12_p650\n",
            "['644228;4604444;7033653;7033654;7033655']\n"
          ]
        },
        {
          "output_type": "execute_result",
          "data": {
            "text/plain": [
              "['rank',\n",
              " 'formulaRank',\n",
              " '#adducts',\n",
              " '#predictedFPs',\n",
              " 'ConfidenceScore',\n",
              " 'CSI:FingerIDScore',\n",
              " 'ZodiacScore',\n",
              " 'SiriusScore',\n",
              " 'molecularFormula',\n",
              " 'adduct',\n",
              " 'InChIkey2D',\n",
              " 'InChI',\n",
              " 'name',\n",
              " 'smiles',\n",
              " 'xlogp',\n",
              " 'pubchemids',\n",
              " 'links',\n",
              " 'dbflags',\n",
              " 'ionMass',\n",
              " 'retentionTimeInSeconds',\n",
              " 'id']"
            ]
          },
          "metadata": {},
          "execution_count": 20
        }
      ]
    },
    {
      "cell_type": "code",
      "source": [
        "newdata=[]\n",
        "for i in Data:\n",
        "    x=degree(i[8])\n",
        "    ID=i[20].split('_')\n",
        "    #print(ID)\n",
        "    i.append(ID[7]) # split position of metabolic featutes index in fullFeatureID\n",
        "    i.append(x)\n",
        "    newdata.append(i)\n",
        "\n",
        "print(newdata[0])"
      ],
      "metadata": {
        "colab": {
          "base_uri": "https://localhost:8080/"
        },
        "id": "-eCcynTUoYT9",
        "outputId": "c51a532f-db83-4977-f3d5-c23e6ad1e09c"
      },
      "execution_count": 21,
      "outputs": [
        {
          "output_type": "stream",
          "name": "stdout",
          "text": [
            "['1', '1', '1', '2', '0.9969579384676672', '-41.240164405657964', '0.9999999999999999', '56.794146250038146', 'C21H19N3O3', '[M + H]+', 'FOSPCYZZRVNHJS', 'InChI=1S/C21H19N3O3/c25-20(10-14-12-23-18-8-4-2-6-16(14)18)24-19(21(26)27)9-13-11-22-17-7-3-1-5-15(13)17/h1-8,11-12,19,22-23H,9-10H2,(H,24,25)(H,26,27)', 'Oprea1_459028', 'C1=CC=C2C(=C1)C(=CN2)CC(C(=O)O)NC(=O)CC3=CNC4=CC=CC=C43', '2.89444613', '644228;4604444;7033653;7033654;7033655', 'COCONUT:(CNP0001391 CNP0277843);PubChem:(644228 4604444 7033653 7033654 7033655);ZINC bio:(ZINC03070964 ZINC03070965);additional;Plantcyc:(CPD-11230);Training Set;PubMed;Biocyc:(CPD-11230)', '2779202', '362.15', '373.114', '210_1_Brassimet_Roots_Neg-POS_PAXs_12_p650', 'p650', 14.0]\n"
          ]
        }
      ]
    },
    {
      "cell_type": "code",
      "source": [
        "head.append(\"ID\")\n",
        "head.append(\"degree\")\n",
        "\n",
        "print(head[0])"
      ],
      "metadata": {
        "colab": {
          "base_uri": "https://localhost:8080/"
        },
        "id": "kiLZ6ypzr-NE",
        "outputId": "aa68ce8f-bce4-4205-92ed-87ea0183793a"
      },
      "execution_count": 22,
      "outputs": [
        {
          "output_type": "stream",
          "name": "stdout",
          "text": [
            "rank\n"
          ]
        }
      ]
    },
    {
      "cell_type": "code",
      "source": [
        "import numpy as np\n",
        "\n",
        "listData = []\n",
        "listData.append(list(head))\n",
        "for item in newdata:\n",
        "    listData.append(list(item))\n",
        "\n",
        "# using the savetxt\n",
        "# from the numpy module\n",
        "np.savetxt(\"compound_identifications-roots-extended.csv\",\n",
        "        listData,\n",
        "        delimiter =\", \",\n",
        "        fmt ='% s')"
      ],
      "metadata": {
        "id": "jxICnMbYsCtt"
      },
      "execution_count": 23,
      "outputs": []
    }
  ]
}