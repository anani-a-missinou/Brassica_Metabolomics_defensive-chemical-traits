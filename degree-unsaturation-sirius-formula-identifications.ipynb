{
  "nbformat": 4,
  "nbformat_minor": 0,
  "metadata": {
    "colab": {
      "provenance": [],
      "authorship_tag": "ABX9TyO9HMcUbqXsTKD838ny0qas",
      "include_colab_link": true
    },
    "kernelspec": {
      "name": "python3",
      "display_name": "Python 3"
    },
    "language_info": {
      "name": "python"
    }
  },
  "cells": [
    {
      "cell_type": "markdown",
      "metadata": {
        "id": "view-in-github",
        "colab_type": "text"
      },
      "source": [
        "<a href=\"https://colab.research.google.com/github/anani-a-missinou/Brassica_Metabolomics_defensive-chemical-traits/blob/main/degree-unsaturation-sirius-formula-identifications.ipynb\" target=\"_parent\"><img src=\"https://colab.research.google.com/assets/colab-badge.svg\" alt=\"Open In Colab\"/></a>"
      ]
    },
    {
      "cell_type": "markdown",
      "source": [
        "# Degree unsaturation of sirius"
      ],
      "metadata": {
        "id": "_Gk0nAPjhKq6"
      }
    },
    {
      "cell_type": "markdown",
      "source": [
        "Author: Anani Amegan MISSINOU (INRAE-IGEPP). I reused a notebook from David Elser (University of Strasbourg) : https://doi.org/10.1101/2022.09.12.507566"
      ],
      "metadata": {
        "id": "ICLlsP_QhNWT"
      }
    },
    {
      "cell_type": "code",
      "execution_count": null,
      "metadata": {
        "id": "-ulr-iOAfcVq"
      },
      "outputs": [],
      "source": [
        "!python"
      ]
    },
    {
      "cell_type": "markdown",
      "source": [
        "Script to load Sirius formula_identifications.tsv and restore the feature id, also calculate the degree of unsaturation from the molecular formula requires molmass package!"
      ],
      "metadata": {
        "id": "VWYuJ6BMhS_d"
      }
    },
    {
      "cell_type": "code",
      "source": [
        "## Install package\n",
        "!pip install molmass\n",
        "!pip install numpy"
      ],
      "metadata": {
        "colab": {
          "base_uri": "https://localhost:8080/"
        },
        "id": "cQ5JY_yUg-hD",
        "outputId": "70d59404-aabb-47a0-dc2b-6235cfc9be07"
      },
      "execution_count": 193,
      "outputs": [
        {
          "output_type": "stream",
          "name": "stdout",
          "text": [
            "Requirement already satisfied: molmass in /usr/local/lib/python3.10/dist-packages (2023.4.10)\n",
            "Requirement already satisfied: numpy in /usr/local/lib/python3.10/dist-packages (1.22.4)\n"
          ]
        }
      ]
    },
    {
      "cell_type": "code",
      "source": [
        "from molmass import Formula\n",
        "\n",
        "from pathlib import Path\n",
        "from tkinter import *\n",
        "\n",
        "from tkinter.filedialog import askopenfilename\n",
        "from tkinter.filedialog import asksaveasfile\n",
        "import csv\n",
        "\n",
        "\n",
        "def degree(form): # function to calculate degree of unsaturation\n",
        "    f= Formula(form)\n",
        "    MF=(f._elements)\n",
        "    try:\n",
        "        b=MF[\"H\"][0]\n",
        "    except:\n",
        "        b=0\n",
        "    try:\n",
        "        c=MF[\"N\"][0]\n",
        "    except:\n",
        "        c=0\n",
        "    try:\n",
        "        a=MF[\"C\"][0]\n",
        "    except:\n",
        "        a=0\n",
        "    if a ==0 or b==0:\n",
        "        return(\"NA\")\n",
        "    else:\n",
        "        return((a+1)-((b-c)/2))"
      ],
      "metadata": {
        "id": "QCHWVJlFgnK6"
      },
      "execution_count": 195,
      "outputs": []
    },
    {
      "cell_type": "code",
      "source": [
        "fname = \"formula_identifications.tsv\"  # file dialog"
      ],
      "metadata": {
        "id": "pGk-tV-ChWHT"
      },
      "execution_count": 197,
      "outputs": []
    },
    {
      "cell_type": "code",
      "source": [
        "Data=[]\n",
        "\n",
        "with open( fname,'r') as f:  # loads file into ScanList\n",
        " for line in f:\n",
        "  line=line.strip('\\n')\n",
        "  Data.append (line.split('\\t'))\n",
        "\n",
        "print(len(Data[1]))\n",
        "print(Data[1])"
      ],
      "metadata": {
        "colab": {
          "base_uri": "https://localhost:8080/"
        },
        "id": "tJBfcipVoLMd",
        "outputId": "558ee1ea-f944-4ba2-9fe8-8485451ccb0a"
      },
      "execution_count": 198,
      "outputs": [
        {
          "output_type": "stream",
          "name": "stdout",
          "text": [
            "17\n",
            "['1', 'C26H48NO7P', '[M + CH2O2 - H]-', 'C27H50NO9P', '0.9999999999999999', '6021.282989909969', '6021.282989909969', '0.0', '10', '0.6126360987578594', '-2.1225354150614146', '4.254099031057453', '1.169524682617012', 'LPC(18:3)', '562.31570', '1046.933', '870_1_Brassimet_Roots_Neg-POS_PAXs_3_n649']\n"
          ]
        }
      ]
    },
    {
      "cell_type": "code",
      "source": [
        "print(Data[1][1]) # index for formula col in formula_identifications.tsv\n",
        "print(Data[1][16]) # index for featuresID col in formula_identifications.tsv\n",
        "print(Data[1][15].split('_'))\n",
        "\n",
        "head=Data[0]\n",
        "Data.pop(0)"
      ],
      "metadata": {
        "colab": {
          "base_uri": "https://localhost:8080/"
        },
        "id": "3F-16QswoT6e",
        "outputId": "1d0feec2-0249-43c4-8f85-0bc1ea85e2df"
      },
      "execution_count": 199,
      "outputs": [
        {
          "output_type": "stream",
          "name": "stdout",
          "text": [
            "C26H48NO7P\n",
            "870_1_Brassimet_Roots_Neg-POS_PAXs_3_n649\n",
            "['1046.933']\n"
          ]
        },
        {
          "output_type": "execute_result",
          "data": {
            "text/plain": [
              "['rank',\n",
              " 'molecularFormula',\n",
              " 'adduct',\n",
              " 'precursorFormula',\n",
              " 'ZodiacScore',\n",
              " 'SiriusScore',\n",
              " 'TreeScore',\n",
              " 'IsotopeScore',\n",
              " 'numExplainedPeaks',\n",
              " 'explainedIntensity',\n",
              " 'medianMassErrorFragmentPeaks(ppm)',\n",
              " 'medianAbsoluteMassErrorFragmentPeaks(ppm)',\n",
              " 'massErrorPrecursor(ppm)',\n",
              " 'lipidClass',\n",
              " 'ionMass',\n",
              " 'retentionTimeInSeconds',\n",
              " 'id']"
            ]
          },
          "metadata": {},
          "execution_count": 199
        }
      ]
    },
    {
      "cell_type": "code",
      "source": [
        "newdata=[]\n",
        "for i in Data:\n",
        "    x=degree(i[1])\n",
        "    ID=i[16].split('_') ## adapte according index of formula_identifications.tsv or compound_identifications.tsv\n",
        "    #print(ID)\n",
        "    i.append(ID[6]) # position in ID split\n",
        "    i.append(x)\n",
        "    newdata.append(i)\n",
        "\n",
        "print(newdata[0])"
      ],
      "metadata": {
        "colab": {
          "base_uri": "https://localhost:8080/"
        },
        "id": "-eCcynTUoYT9",
        "outputId": "deecd051-b768-4b29-ea80-37bef6be2874"
      },
      "execution_count": 201,
      "outputs": [
        {
          "output_type": "stream",
          "name": "stdout",
          "text": [
            "['1', 'C26H48NO7P', '[M + CH2O2 - H]-', 'C27H50NO9P', '0.9999999999999999', '6021.282989909969', '6021.282989909969', '0.0', '10', '0.6126360987578594', '-2.1225354150614146', '4.254099031057453', '1.169524682617012', 'LPC(18:3)', '562.31570', '1046.933', '870_1_Brassimet_Roots_Neg-POS_PAXs_3_n649', '3', 3.5]\n"
          ]
        }
      ]
    },
    {
      "cell_type": "code",
      "source": [
        "head.append(\"ID\")\n",
        "head.append(\"degree\")\n",
        "\n",
        "print(head[0])"
      ],
      "metadata": {
        "colab": {
          "base_uri": "https://localhost:8080/"
        },
        "id": "kiLZ6ypzr-NE",
        "outputId": "6297f4d1-0e71-424d-ddea-ba2c98f656ae"
      },
      "execution_count": 202,
      "outputs": [
        {
          "output_type": "stream",
          "name": "stdout",
          "text": [
            "rank\n"
          ]
        }
      ]
    },
    {
      "cell_type": "code",
      "source": [
        "import numpy as np\n",
        "#csvfile = \"formula_identifications-extended.tsv\" # file dialog\n",
        "\n",
        "listData = []\n",
        "listData.append(list(head))\n",
        "for item in newdata:\n",
        "    listData.append(list(item))\n",
        "\n",
        "# using the savetxt\n",
        "# from the numpy module\n",
        "np.savetxt(\"formula_identifications-roots-extended.csv\",\n",
        "        listData,\n",
        "        delimiter =\", \",\n",
        "        fmt ='% s')"
      ],
      "metadata": {
        "id": "jxICnMbYsCtt"
      },
      "execution_count": 203,
      "outputs": []
    }
  ]
}