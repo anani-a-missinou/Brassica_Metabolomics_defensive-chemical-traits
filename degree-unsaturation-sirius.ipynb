{
  "nbformat": 4,
  "nbformat_minor": 0,
  "metadata": {
    "colab": {
      "provenance": [],
      "authorship_tag": "ABX9TyMSE4ym2tdOPMg3nMabzPVe",
      "include_colab_link": true
    },
    "kernelspec": {
      "name": "python3",
      "display_name": "Python 3"
    },
    "language_info": {
      "name": "python"
    }
  },
  "cells": [
    {
      "cell_type": "markdown",
      "metadata": {
        "id": "view-in-github",
        "colab_type": "text"
      },
      "source": [
        "<a href=\"https://colab.research.google.com/github/anani-a-missinou/Brassica_Metabolomics_defensive-chemical-traits/blob/main/degree-unsaturation-sirius.ipynb\" target=\"_parent\"><img src=\"https://colab.research.google.com/assets/colab-badge.svg\" alt=\"Open In Colab\"/></a>"
      ]
    },
    {
      "cell_type": "markdown",
      "source": [
        "# Degree unsaturation of sirius"
      ],
      "metadata": {
        "id": "_Gk0nAPjhKq6"
      }
    },
    {
      "cell_type": "markdown",
      "source": [
        "Author: Anani Amegan MISSINOU (INRAE-IGEPP). I reused a notebook from David Elser (University of Strasbourg) : https://doi.org/10.1101/2022.09.12.507566"
      ],
      "metadata": {
        "id": "ICLlsP_QhNWT"
      }
    },
    {
      "cell_type": "code",
      "execution_count": 1,
      "metadata": {
        "colab": {
          "base_uri": "https://localhost:8080/"
        },
        "id": "-ulr-iOAfcVq",
        "outputId": "bf05b123-d3f0-46ea-dc73-711672df6bbe"
      },
      "outputs": [
        {
          "output_type": "stream",
          "name": "stdout",
          "text": [
            "\n",
            "KeyboardInterrupt\n",
            ">>> ^C\n",
            "Collecting molmass\n",
            "  Downloading molmass-2023.4.10-py3-none-any.whl (74 kB)\n",
            "\u001b[2K     \u001b[90m━━━━━━━━━━━━━━━━━━━━━━━━━━━━━━━━━━━━━━━━\u001b[0m \u001b[32m74.4/74.4 kB\u001b[0m \u001b[31m6.3 MB/s\u001b[0m eta \u001b[36m0:00:00\u001b[0m\n",
            "\u001b[?25hInstalling collected packages: molmass\n",
            "Successfully installed molmass-2023.4.10\n"
          ]
        }
      ],
      "source": [
        "!python"
      ]
    },
    {
      "cell_type": "markdown",
      "source": [
        "Script to load Sirius formula_identifications.tsv and restore the feature id, also calculate the degree of unsaturation from the molecular formula requires molmass package!"
      ],
      "metadata": {
        "id": "VWYuJ6BMhS_d"
      }
    },
    {
      "cell_type": "code",
      "source": [
        "## Install molmass\n",
        "!pip install molmass\n",
        "!pip install tk\n",
        "!pip install numpy"
      ],
      "metadata": {
        "colab": {
          "base_uri": "https://localhost:8080/"
        },
        "id": "cQ5JY_yUg-hD",
        "outputId": "dcf4d73b-531d-43ae-d2dd-06f9f91b7cc3"
      },
      "execution_count": 111,
      "outputs": [
        {
          "output_type": "stream",
          "name": "stdout",
          "text": [
            "Requirement already satisfied: molmass in /usr/local/lib/python3.10/dist-packages (2023.4.10)\n",
            "Requirement already satisfied: tk in /usr/local/lib/python3.10/dist-packages (0.1.0)\n",
            "Requirement already satisfied: numpy in /usr/local/lib/python3.10/dist-packages (1.22.4)\n",
            "Requirement already satisfied: pandas in /usr/local/lib/python3.10/dist-packages (1.5.3)\n",
            "Requirement already satisfied: python-dateutil>=2.8.1 in /usr/local/lib/python3.10/dist-packages (from pandas) (2.8.2)\n",
            "Requirement already satisfied: pytz>=2020.1 in /usr/local/lib/python3.10/dist-packages (from pandas) (2022.7.1)\n",
            "Requirement already satisfied: numpy>=1.21.0 in /usr/local/lib/python3.10/dist-packages (from pandas) (1.22.4)\n",
            "Requirement already satisfied: six>=1.5 in /usr/local/lib/python3.10/dist-packages (from python-dateutil>=2.8.1->pandas) (1.16.0)\n"
          ]
        }
      ]
    },
    {
      "cell_type": "code",
      "source": [
        "from molmass import Formula\n",
        "\n",
        "from pathlib import Path\n",
        "from tkinter import *\n",
        "\n",
        "from tkinter.filedialog import askopenfilename\n",
        "from tkinter.filedialog import asksaveasfile\n",
        "import csv\n",
        "\n",
        "\n",
        "def degree(form): # function to calculate degree of unsaturation\n",
        "    f= Formula(form)\n",
        "    MF=(f._elements)\n",
        "    try:\n",
        "        b=MF[\"H\"][0]\n",
        "    except:\n",
        "        b=0\n",
        "    try:\n",
        "        c=MF[\"N\"][0]\n",
        "    except:\n",
        "        c=0\n",
        "    try:\n",
        "        a=MF[\"C\"][0]\n",
        "    except:\n",
        "        a=0\n",
        "    if a ==0 or b==0:\n",
        "        return(\"NA\")\n",
        "    else:\n",
        "        return((a+1)-((b-c)/2))"
      ],
      "metadata": {
        "id": "QCHWVJlFgnK6"
      },
      "execution_count": 154,
      "outputs": []
    },
    {
      "cell_type": "code",
      "source": [
        "fname = \"formula_identifications.tsv\"  # file dialog"
      ],
      "metadata": {
        "id": "pGk-tV-ChWHT"
      },
      "execution_count": 155,
      "outputs": []
    },
    {
      "cell_type": "code",
      "source": [
        "Data=[]\n",
        "\n",
        "with open( fname,'r') as f:  # loads file into ScanList\n",
        " for line in f:\n",
        "  line=line.strip('\\n')\n",
        "  Data.append (line.split('\\t'))\n",
        "\n",
        "print(Data[1])"
      ],
      "metadata": {
        "colab": {
          "base_uri": "https://localhost:8080/"
        },
        "id": "tJBfcipVoLMd",
        "outputId": "7660c2a9-6a60-4e64-bf15-adec8098fbc8"
      },
      "execution_count": 156,
      "outputs": [
        {
          "output_type": "stream",
          "name": "stdout",
          "text": [
            "['1', 'C26H48NO7P', '[M + CH2O2 - H]-', 'C27H50NO9P', '0.9999999999999999', '6021.282989909969', '6021.282989909969', '0.0', '10', '0.6126360987578594', '-2.1225354150614146', '4.254099031057453', '1.169524682617012', 'LPC(18:3)', '562.31570', '1046.933', '870_1_Brassimet_Roots_Neg-POS_PAXs_3_n649']\n"
          ]
        }
      ]
    },
    {
      "cell_type": "code",
      "source": [
        "print(Data[1][1])\n",
        "print(Data[1][16])\n",
        "print(Data[1][15].split('_'))\n",
        "\n",
        "head=Data[0]\n",
        "Data.pop(0)"
      ],
      "metadata": {
        "colab": {
          "base_uri": "https://localhost:8080/"
        },
        "id": "3F-16QswoT6e",
        "outputId": "a6c5f4d4-6fa6-4e49-9ef3-a06a6e81f5a9"
      },
      "execution_count": 157,
      "outputs": [
        {
          "output_type": "stream",
          "name": "stdout",
          "text": [
            "C26H48NO7P\n",
            "870_1_Brassimet_Roots_Neg-POS_PAXs_3_n649\n",
            "['1046.933']\n"
          ]
        },
        {
          "output_type": "execute_result",
          "data": {
            "text/plain": [
              "['rank',\n",
              " 'molecularFormula',\n",
              " 'adduct',\n",
              " 'precursorFormula',\n",
              " 'ZodiacScore',\n",
              " 'SiriusScore',\n",
              " 'TreeScore',\n",
              " 'IsotopeScore',\n",
              " 'numExplainedPeaks',\n",
              " 'explainedIntensity',\n",
              " 'medianMassErrorFragmentPeaks(ppm)',\n",
              " 'medianAbsoluteMassErrorFragmentPeaks(ppm)',\n",
              " 'massErrorPrecursor(ppm)',\n",
              " 'lipidClass',\n",
              " 'ionMass',\n",
              " 'retentionTimeInSeconds',\n",
              " 'id']"
            ]
          },
          "metadata": {},
          "execution_count": 157
        }
      ]
    },
    {
      "cell_type": "code",
      "source": [
        "newdata=[]\n",
        "for i in Data:\n",
        "    x=degree(i[1])\n",
        "    ID=i[16].split('_')\n",
        "    #print(ID)\n",
        "    i.append(ID[6]) # position in ID split\n",
        "    i.append(x)\n",
        "    newdata.append(i)\n",
        "\n",
        "print(newdata[0])"
      ],
      "metadata": {
        "colab": {
          "base_uri": "https://localhost:8080/"
        },
        "id": "-eCcynTUoYT9",
        "outputId": "743d9ca5-8875-4764-8beb-e00a80522dbb"
      },
      "execution_count": 158,
      "outputs": [
        {
          "output_type": "stream",
          "name": "stdout",
          "text": [
            "['1', 'C26H48NO7P', '[M + CH2O2 - H]-', 'C27H50NO9P', '0.9999999999999999', '6021.282989909969', '6021.282989909969', '0.0', '10', '0.6126360987578594', '-2.1225354150614146', '4.254099031057453', '1.169524682617012', 'LPC(18:3)', '562.31570', '1046.933', '870_1_Brassimet_Roots_Neg-POS_PAXs_3_n649', '3', 3.5]\n"
          ]
        }
      ]
    },
    {
      "cell_type": "code",
      "source": [
        "head.append(\"ID\")\n",
        "head.append(\"degree\")\n",
        "\n",
        "print(head[0])"
      ],
      "metadata": {
        "colab": {
          "base_uri": "https://localhost:8080/"
        },
        "id": "kiLZ6ypzr-NE",
        "outputId": "d411a6b6-484f-4825-f73c-cec8b5b21785"
      },
      "execution_count": 159,
      "outputs": [
        {
          "output_type": "stream",
          "name": "stdout",
          "text": [
            "rank\n"
          ]
        }
      ]
    },
    {
      "cell_type": "code",
      "source": [
        "import numpy as np\n",
        "#csvfile = \"formula_identifications-extended.tsv\" # file dialog\n",
        "\n",
        "listData = []\n",
        "listData.append(list(head))\n",
        "for item in newdata:\n",
        "    listData.append(list(item))\n",
        "\n",
        "# using the savetxt\n",
        "# from the numpy module\n",
        "np.savetxt(\"formula_identifications-roots-extended.csv\",\n",
        "        listData,\n",
        "        delimiter =\", \",\n",
        "        fmt ='% s')"
      ],
      "metadata": {
        "id": "jxICnMbYsCtt"
      },
      "execution_count": 160,
      "outputs": []
    }
  ]
}