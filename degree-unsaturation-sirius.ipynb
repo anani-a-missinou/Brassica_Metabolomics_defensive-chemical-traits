{
  "nbformat": 4,
  "nbformat_minor": 0,
  "metadata": {
    "colab": {
      "provenance": [],
      "authorship_tag": "ABX9TyMAg1pKyTMukQqVjseNqfRK",
      "include_colab_link": true
    },
    "kernelspec": {
      "name": "python3",
      "display_name": "Python 3"
    },
    "language_info": {
      "name": "python"
    }
  },
  "cells": [
    {
      "cell_type": "markdown",
      "metadata": {
        "id": "view-in-github",
        "colab_type": "text"
      },
      "source": [
        "<a href=\"https://colab.research.google.com/github/anani-a-missinou/Brassica_Metabolomics_defensive-chemical-traits/blob/main/degree-unsaturation-sirius.ipynb\" target=\"_parent\"><img src=\"https://colab.research.google.com/assets/colab-badge.svg\" alt=\"Open In Colab\"/></a>"
      ]
    },
    {
      "cell_type": "markdown",
      "source": [
        "# Degree unsaturation of sirius"
      ],
      "metadata": {
        "id": "930vJaxcbR3u"
      }
    },
    {
      "cell_type": "markdown",
      "source": [
        "Author: Anani Amegan MISSINOU (INRAE-IGEPP). I reused a notebook from David Elser (University of Strasbourg) : https://doi.org/10.1101/2022.09.12.507566"
      ],
      "metadata": {
        "id": "NIicXamqaqIx"
      }
    },
    {
      "cell_type": "code",
      "source": [
        "!python\n",
        "\n",
        "## Install molmass\n",
        "!pip install molmass"
      ],
      "metadata": {
        "colab": {
          "base_uri": "https://localhost:8080/"
        },
        "id": "ZBPSG3ezbuQX",
        "outputId": "3fe312a4-43f8-4b14-b6c3-7b3862f17ffe"
      },
      "execution_count": null,
      "outputs": [
        {
          "metadata": {
            "tags": null
          },
          "name": "stdout",
          "output_type": "stream",
          "text": [
            "Python 3.10.12 (main, Jun  7 2023, 12:45:35) [GCC 9.4.0] on linux\n",
            "Type \"help\", \"copyright\", \"credits\" or \"license\" for more information.\n",
            ">>> \n",
            "\n",
            "KeyboardInterrupt\n",
            ">>> "
          ]
        }
      ]
    },
    {
      "cell_type": "markdown",
      "source": [
        "Script to load Sirius formula_identifications.tsv and restore the feature id, also calculate the degree of unsaturation from the molecular formula requires molmass package!"
      ],
      "metadata": {
        "id": "J0xSlYvObj11"
      }
    },
    {
      "cell_type": "code",
      "source": [],
      "metadata": {
        "id": "JPumEpeCb1FH"
      },
      "execution_count": null,
      "outputs": []
    },
    {
      "cell_type": "code",
      "execution_count": null,
      "metadata": {
        "colab": {
          "base_uri": "https://localhost:8080/",
          "height": 373
        },
        "id": "sKmogHwcaKwU",
        "outputId": "d4cec19a-d888-4809-e4f8-c2e7ba386ee3"
      },
      "outputs": [
        {
          "output_type": "error",
          "ename": "ModuleNotFoundError",
          "evalue": "ignored",
          "traceback": [
            "\u001b[0;31m---------------------------------------------------------------------------\u001b[0m",
            "\u001b[0;31mModuleNotFoundError\u001b[0m                       Traceback (most recent call last)",
            "\u001b[0;32m<ipython-input-1-9ea8231964a9>\u001b[0m in \u001b[0;36m<cell line: 1>\u001b[0;34m()\u001b[0m\n\u001b[0;32m----> 1\u001b[0;31m \u001b[0;32mfrom\u001b[0m \u001b[0mmolmass\u001b[0m \u001b[0;32mimport\u001b[0m \u001b[0mFormula\u001b[0m\u001b[0;34m\u001b[0m\u001b[0;34m\u001b[0m\u001b[0m\n\u001b[0m\u001b[1;32m      2\u001b[0m \u001b[0;34m\u001b[0m\u001b[0m\n\u001b[1;32m      3\u001b[0m \u001b[0;32mfrom\u001b[0m \u001b[0mpathlib\u001b[0m \u001b[0;32mimport\u001b[0m \u001b[0mPath\u001b[0m\u001b[0;34m\u001b[0m\u001b[0;34m\u001b[0m\u001b[0m\n\u001b[1;32m      4\u001b[0m \u001b[0;32mfrom\u001b[0m \u001b[0mtkinter\u001b[0m \u001b[0;32mimport\u001b[0m \u001b[0;34m*\u001b[0m\u001b[0;34m\u001b[0m\u001b[0;34m\u001b[0m\u001b[0m\n\u001b[1;32m      5\u001b[0m \u001b[0;34m\u001b[0m\u001b[0m\n",
            "\u001b[0;31mModuleNotFoundError\u001b[0m: No module named 'molmass'",
            "",
            "\u001b[0;31m---------------------------------------------------------------------------\u001b[0;32m\nNOTE: If your import is failing due to a missing package, you can\nmanually install dependencies using either !pip or !apt.\n\nTo view examples of installing some common dependencies, click the\n\"Open Examples\" button below.\n\u001b[0;31m---------------------------------------------------------------------------\u001b[0m\n"
          ],
          "errorDetails": {
            "actions": [
              {
                "action": "open_url",
                "actionText": "Open Examples",
                "url": "/notebooks/snippets/importing_libraries.ipynb"
              }
            ]
          }
        }
      ],
      "source": [
        "from molmass import Formula\n",
        "\n",
        "from pathlib import Path\n",
        "from tkinter import *\n",
        "\n",
        "from tkinter.filedialog import askopenfilename\n",
        "from tkinter.filedialog import asksaveasfile\n",
        "import csv\n",
        "\n",
        "\n",
        "def degree(form): # function to calculate degree of unsaturation\n",
        "    f= Formula(form)\n",
        "    MF=(f._elements)\n",
        "    try:\n",
        "        b=MF[\"H\"][0]\n",
        "    except:\n",
        "        b=0\n",
        "    try:\n",
        "        c=MF[\"N\"][0]\n",
        "    except:\n",
        "        c=0\n",
        "    try:\n",
        "        a=MF[\"C\"][0]\n",
        "    except:\n",
        "        a=0\n",
        "    if a ==0 or b==0:\n",
        "        return(\"NA\")\n",
        "    else:\n",
        "        return((a+1)-((b-c)/2))"
      ]
    }
  ]
}